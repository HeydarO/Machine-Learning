{
 "cells": [
  {
   "cell_type": "code",
   "execution_count": 56,
   "metadata": {},
   "outputs": [
    {
     "data": {
      "text/plain": [
       "1.0"
      ]
     },
     "execution_count": 56,
     "metadata": {},
     "output_type": "execute_result"
    }
   ],
   "source": [
    "### Predicting music interests of the individuals using decision tree model\n",
    "\n",
    "# Importing pandas module  \n",
    "import pandas as pd\n",
    "\n",
    "# From sklearn package and tree module import DecisionTreeClassifier class\n",
    "from sklearn.tree import DecisionTreeClassifier\n",
    "\n",
    "# From sklearn package and model selection module we are importing train/test split function \n",
    "from sklearn.model_selection import train_test_split\n",
    "\n",
    "# From sklearn package and metrics module we are importing accuracy_score function \n",
    "from sklearn.metrics import accuracy_score\n",
    "\n",
    "# Assigning dataset that is in .csv format to music_data variable\n",
    "music_data = pd.read_csv('music.csv')\n",
    "\n",
    "# Dropping column \"Genre\" (which is output of the model) from the dataset \n",
    "# and adding the rest of the dataset (which is input of the model) to X variable \n",
    "X = music_data.drop(columns=['genre'])\n",
    "\n",
    "# Adding column \"Genre\" (which is output of the model) to y variable\n",
    "y = music_data['genre']\n",
    "\n",
    "# Dividing dataset to train and test datasets  with train/test function\n",
    "X_train, X_test, y_train, y_test = train_test_split(X, y, test_size = 0.2)\n",
    "\n",
    "# Applying  Decision Tree model to dataset that is used for training purposes  \n",
    "model = DecisionTreeClassifier()\n",
    "model.fit(X_train, y_train)\n",
    "\n",
    "# Making predictions on output of inputted test data based on trained model\n",
    "predictions = model.predict(X_test)\n",
    "\n",
    "# Deriving accuracy score from the comparison of output of the model and actual info from dataset\n",
    "score = accuracy_score(y_test, predictions)\n",
    "score\n"
   ]
  },
  {
   "cell_type": "code",
   "execution_count": 69,
   "metadata": {},
   "outputs": [
    {
     "data": {
      "text/plain": [
       "array(['HipHop'], dtype=object)"
      ]
     },
     "execution_count": 69,
     "metadata": {},
     "output_type": "execute_result"
    }
   ],
   "source": [
    "### Persistent models\n",
    "\n",
    "# Importing pandas module  \n",
    "import pandas as pd\n",
    "\n",
    "# From sklearn package and tree module import DecisionTreeClassifier class\n",
    "from sklearn.tree import DecisionTreeClassifier\n",
    "\n",
    "# Importing joblib moduule (used for storing trained models) \n",
    "import joblib\n",
    "\n",
    "# # Assigning dataset that is in .csv format to music_data variable\n",
    "# music_data = pd.read_csv('music.csv')\n",
    "\n",
    "# # Dropping column \"Genre\" (which is output of the model) from the dataset \n",
    "# # and adding the rest of the dataset (which is input of the model) to X variable \n",
    "# X = music_data.drop(columns=['genre'])\n",
    "\n",
    "# # Adding column \"Genre\" (which is output of the model) to y variable\n",
    "# y = music_data['genre']\n",
    "\n",
    "# # Applying  Decision Tree model to dataset that is used for training purposes  \n",
    "# model = DecisionTreeClassifier()\n",
    "# model.fit(X, y)\n",
    "\n",
    "# # Storing trained model within joblib file\n",
    "# joblib.dump(model, 'music_recommender.joblib')\n",
    "\n",
    "# Loading trained model from joblib file\n",
    "model = joblib.load('music_recommender.joblib')\n",
    "\n",
    "# Making predictions on output of inputted test data based on trained model\n",
    "predictions = model.predict([ [21, 1] ])\n",
    "predictions"
   ]
  },
  {
   "cell_type": "code",
   "execution_count": 71,
   "metadata": {},
   "outputs": [],
   "source": [
    "### Visualization of the decision tree\n",
    "\n",
    "# Importing pandas module  \n",
    "import pandas as pd\n",
    "\n",
    "# From sklearn package and tree module import DecisionTreeClassifier class\n",
    "from sklearn.tree import DecisionTreeClassifier\n",
    "\n",
    "# From sklearn package importing tree object (used for visualization of decision tree model)\n",
    "from sklearn import tree\n",
    "\n",
    "# Assigning dataset that is in .csv format to music_data variable\n",
    "music_data = pd.read_csv('music.csv')\n",
    "\n",
    "# Dropping column \"Genre\" (which is output of the model) from the dataset \n",
    "# and adding the rest of the dataset (which is input of the model) to X variable \n",
    "X = music_data.drop(columns=['genre'])\n",
    "\n",
    "# Adding column \"Genre\" (which is output of the model) to y variable\n",
    "y = music_data['genre']\n",
    "\n",
    "# Applying  Decision Tree model to dataset that is used for training purposes  \n",
    "model = DecisionTreeClassifier()\n",
    "model.fit(X, y)\n",
    "\n",
    "# Generating Dot file with graphical representations instucted in the lines below\n",
    "tree.export_graphviz(model, out_file = 'music-recommender.dot',\n",
    "                    feature_names = ['age', 'gender'],\n",
    "                    class_names = sorted(y.unique()),\n",
    "                    label = 'all',\n",
    "                    rounded = True,\n",
    "                    filled = True)\n"
   ]
  }
 ],
 "metadata": {
  "kernelspec": {
   "display_name": "Python 3",
   "language": "python",
   "name": "python3"
  },
  "language_info": {
   "codemirror_mode": {
    "name": "ipython",
    "version": 3
   },
   "file_extension": ".py",
   "mimetype": "text/x-python",
   "name": "python",
   "nbconvert_exporter": "python",
   "pygments_lexer": "ipython3",
   "version": "3.8.2"
  }
 },
 "nbformat": 4,
 "nbformat_minor": 4
}
